{
  "nbformat": 4,
  "nbformat_minor": 0,
  "metadata": {
    "colab": {
      "name": "passwordpicker.ipynb",
      "provenance": [],
      "collapsed_sections": []
    },
    "kernelspec": {
      "name": "python3",
      "display_name": "Python 3"
    }
  },
  "cells": [
    {
      "cell_type": "code",
      "metadata": {
        "id": "R6OdCzFeTL1-",
        "colab_type": "code",
        "colab": {
          "base_uri": "https://localhost:8080/",
          "height": 34
        },
        "outputId": "a167077e-3203-4226-dc1c-fd5d38462e05"
      },
      "source": [
        "import random\n",
        "random.randint(1,100)"
      ],
      "execution_count": 8,
      "outputs": [
        {
          "output_type": "execute_result",
          "data": {
            "text/plain": [
              "32"
            ]
          },
          "metadata": {
            "tags": []
          },
          "execution_count": 8
        }
      ]
    },
    {
      "cell_type": "code",
      "metadata": {
        "id": "m499vVtBTUYW",
        "colab_type": "code",
        "colab": {
          "base_uri": "https://localhost:8080/",
          "height": 34
        },
        "outputId": "6dded3d8-ff8b-4976-d456-bda8311b3213"
      },
      "source": [
        "listverb=[\"walk\",\"laugh\",\"cough\",\"play\",\"run\",\"drag\",\"hang\",\"sleep\",\"eat\",\"bring\"]\n",
        "random.choice(listverb)"
      ],
      "execution_count": 11,
      "outputs": [
        {
          "output_type": "execute_result",
          "data": {
            "text/plain": [
              "'sleep'"
            ]
          },
          "metadata": {
            "tags": []
          },
          "execution_count": 11
        }
      ]
    },
    {
      "cell_type": "code",
      "metadata": {
        "id": "cBIkf-CNTUbv",
        "colab_type": "code",
        "colab": {
          "base_uri": "https://localhost:8080/",
          "height": 34
        },
        "outputId": "767bf90c-eff9-4ba6-fa1a-47c82989c709"
      },
      "source": [
        "listname=[\"cat\", \"sock\", \"ship\",\"hero\", \"monkey\", \"baby\", \"match\", \"group\", \"family\", \"band\", \"village\"]\n",
        "random.choice(listname)"
      ],
      "execution_count": 14,
      "outputs": [
        {
          "output_type": "execute_result",
          "data": {
            "text/plain": [
              "'village'"
            ]
          },
          "metadata": {
            "tags": []
          },
          "execution_count": 14
        }
      ]
    },
    {
      "cell_type": "code",
      "metadata": {
        "id": "6dIQkc9DTUWX",
        "colab_type": "code",
        "colab": {
          "base_uri": "https://localhost:8080/",
          "height": 34
        },
        "outputId": "67632625-b077-45c4-b6fd-faa768092121"
      },
      "source": [
        "import string\n",
        "string.punctuation"
      ],
      "execution_count": 17,
      "outputs": [
        {
          "output_type": "execute_result",
          "data": {
            "text/plain": [
              "'!\"#$%&\\'()*+,-./:;<=>?@[\\\\]^_`{|}~'"
            ]
          },
          "metadata": {
            "tags": []
          },
          "execution_count": 17
        }
      ]
    },
    {
      "cell_type": "code",
      "metadata": {
        "id": "JgQdHj3oaNZX",
        "colab_type": "code",
        "colab": {
          "base_uri": "https://localhost:8080/",
          "height": 34
        },
        "outputId": "a61d1f0e-dc9e-4f89-9466-abac2d03fdef"
      },
      "source": [
        "listpun=[\"!\",\"@\",\"#\",\"$\",\"%\",\"&\",\"*\",\"(\",\")\"]\n",
        "listpun"
      ],
      "execution_count": 42,
      "outputs": [
        {
          "output_type": "execute_result",
          "data": {
            "text/plain": [
              "['!', '@', '#', '$', '%', '&', '*', '(', ')']"
            ]
          },
          "metadata": {
            "tags": []
          },
          "execution_count": 42
        }
      ]
    },
    {
      "cell_type": "code",
      "metadata": {
        "id": "xxFH1bY3c5_P",
        "colab_type": "code",
        "colab": {}
      },
      "source": [
        ""
      ],
      "execution_count": 0,
      "outputs": []
    },
    {
      "cell_type": "code",
      "metadata": {
        "id": "-Wbx0lpuWK-o",
        "colab_type": "code",
        "colab": {
          "base_uri": "https://localhost:8080/",
          "height": 85
        },
        "outputId": "eb7de686-7dad-4d54-cfc0-f970e41dcf32"
      },
      "source": [
        "n=int(input(\"enter no of passwords\"))\n",
        "for i in range(1,n+1):\n",
        "  listpass=[]\n",
        "  listpass.append(random.choice(listverb))\n",
        "  listpass.append(random.choice(listname))\n",
        "  listpass.append(random.randint(1,100))\n",
        "  listpass.append(random.choice(listpun))\n",
        "  listToStr = ''.join([str(elem) for elem in listpass])\n",
        "  print(listToStr)\n",
        "\n"
      ],
      "execution_count": 57,
      "outputs": [
        {
          "output_type": "stream",
          "text": [
            "enter no of passwords3\n",
            "sleepsock77%\n",
            "bringfamily87&\n",
            "sleepband68%\n"
          ],
          "name": "stdout"
        }
      ]
    },
    {
      "cell_type": "code",
      "metadata": {
        "id": "thYf0RLtWLB4",
        "colab_type": "code",
        "colab": {}
      },
      "source": [
        ""
      ],
      "execution_count": 0,
      "outputs": []
    },
    {
      "cell_type": "code",
      "metadata": {
        "id": "k4gQxFZQWK8n",
        "colab_type": "code",
        "colab": {}
      },
      "source": [
        "\n"
      ],
      "execution_count": 0,
      "outputs": []
    }
  ]
}